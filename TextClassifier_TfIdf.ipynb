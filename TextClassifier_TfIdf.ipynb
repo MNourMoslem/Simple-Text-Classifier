{
  "nbformat": 4,
  "nbformat_minor": 0,
  "metadata": {
    "colab": {
      "provenance": [],
      "toc_visible": true,
      "authorship_tag": "ABX9TyOZo54FBbchRrplu8txt7D0",
      "include_colab_link": true
    },
    "kernelspec": {
      "name": "python3",
      "display_name": "Python 3"
    },
    "language_info": {
      "name": "python"
    }
  },
  "cells": [
    {
      "cell_type": "markdown",
      "metadata": {
        "id": "view-in-github",
        "colab_type": "text"
      },
      "source": [
        "<a href=\"https://colab.research.google.com/github/MNourMoslem/Simple-Text-Classifier/blob/master/withTf_Idf.ipynb\" target=\"_parent\"><img src=\"https://colab.research.google.com/assets/colab-badge.svg\" alt=\"Open In Colab\"/></a>"
      ]
    },
    {
      "cell_type": "markdown",
      "source": [
        "# What is TF-IDF?\n",
        "TF-IDF stands for Term Frequency-Inverse Document Frequency, a statistical measure used to evaluate the importance of a word in a document relative to a collection of documents (corpus). It combines two key concepts:\n",
        "\n",
        "##Term Frequency (TF):\n",
        "\n",
        "TF measures how frequently a term appears in a document. The assumption is that the more a word appears in a document, the more important it is.\n",
        "The formula for Term Frequency is:\n",
        "\n",
        "$\\large TF(t,d) = \\frac{\\text{Number of times term t appears in document d}}{\\text{Number of terms in document d}}$\n",
        "\n",
        "$$\n",
        "\\\n",
        "$$\n",
        "\n",
        "##Inverse Document Frequency (IDF):\n",
        "\n",
        "IDF measures how important a term is in the entire corpus. If a term appears in many documents, its IDF is lower, implying that it's a common word and less important.\n",
        "The formula for Inverse Document Frequency is:\n",
        "\n",
        "$\\large IDF(t,d) = \\log(\\frac{\\text{Number of times term t appears in document d}}{\\text{Number of terms in document d}})$\n",
        "$$\n",
        "\\\n",
        "$$\n",
        "\n",
        "##Combining TF and IDF:\n",
        "\n",
        "The TF-IDF score is the product of Term Frequency and Inverse Document Frequency:\n",
        "\n",
        "$TF-IDF(t,d,D)=TF(t,d)×IDF(t,D)$\n",
        "\n",
        "This score helps to highlight words that are important to a specific document but not common across the entire corpus, making them more useful for tasks like text classification, search engines, and information retrieval.\n",
        "Why Use TF-IDF?\n",
        "TF-IDF is widely used in natural language processing tasks because it balances the frequency of words with their uniqueness across documents. It helps to identify keywords that are not only frequent within a document but also provide significant differentiation between documents in a corpus.\n",
        "\n",
        "In the context of a text classifier, TF-IDF is particularly useful because it allows the model to focus on words that are most informative for distinguishing between different classes, rather than being distracted by common words that appear frequently but contribute little to classification."
      ],
      "metadata": {
        "id": "dQlgNW-EIGGt"
      }
    },
    {
      "cell_type": "code",
      "execution_count": 24,
      "metadata": {
        "colab": {
          "base_uri": "https://localhost:8080/"
        },
        "id": "79lcBteYwfLi",
        "outputId": "c7959884-ad28-44f1-b6ca-77d46fe45813"
      },
      "outputs": [
        {
          "output_type": "stream",
          "name": "stdout",
          "text": [
            "fatal: destination path 'TextCleaner' already exists and is not an empty directory.\n"
          ]
        }
      ],
      "source": [
        "'''\n",
        "Before we start it would be good to implement TextCleaner module from the repository in the link below\n",
        "To help us to modify and clear the data text from the dataset\n",
        "'''\n",
        "!git clone https://github.com/MNourMoslem/TextCleaner"
      ]
    },
    {
      "cell_type": "markdown",
      "source": [
        "# Twitter Spam Dataset"
      ],
      "metadata": {
        "id": "xVA-8lwvpAg6"
      }
    },
    {
      "cell_type": "markdown",
      "source": [
        "## Import The Data"
      ],
      "metadata": {
        "id": "yVFVoxowOu_3"
      }
    },
    {
      "cell_type": "code",
      "source": [
        "\"\"\"\n",
        "The dataset we are going to work with containes a collection of twittes that is labeled to ham and spam.\n",
        "Our goal is to train our module on this dataset to be able to predict whether a twitte is a spam or not.\n",
        "(There is additional information about why its called spam and ham in the end of this file)\n",
        "\"\"\"\n",
        "\n",
        "import pandas as pd\n",
        "\n",
        "data = pd.read_csv(\"https://raw.githubusercontent.com/MNourMoslem/Simple-Text-Classifier/master/dataset/spam.tsv\", delimiter='\\t')\n",
        "\n",
        "rand_idx = 3401\n",
        "rand_message = data['message'][rand_idx]\n",
        "rand_message"
      ],
      "metadata": {
        "colab": {
          "base_uri": "https://localhost:8080/",
          "height": 53
        },
        "id": "bZR8Nm77wopr",
        "outputId": "0124edd9-43aa-44f0-d027-0e8158d41884"
      },
      "execution_count": 25,
      "outputs": [
        {
          "output_type": "execute_result",
          "data": {
            "text/plain": [
              "'As a valued customer, I am pleased to advise you that following recent review of your Mob No. you are awarded with a £1500 Bonus Prize, call 09066364589'"
            ],
            "application/vnd.google.colaboratory.intrinsic+json": {
              "type": "string"
            }
          },
          "metadata": {},
          "execution_count": 25
        }
      ]
    },
    {
      "cell_type": "markdown",
      "source": [
        "## Create the helper function to clean the data from unnecessary text like emails, tags, etc."
      ],
      "metadata": {
        "id": "YLPx_vO9Oydy"
      }
    },
    {
      "cell_type": "code",
      "source": [
        "from TextCleaner import TextCleaner\n",
        "\n",
        "def clean_text(text : str):\n",
        "  text = TextCleaner.remove_hashtags(text)\n",
        "  text = TextCleaner.remove_emails(text)\n",
        "  text = TextCleaner.remove_urls(text)\n",
        "  text = TextCleaner.remove_tags(text)\n",
        "  text = TextCleaner.remove_repeated(text) # Replaces charechters repeated more than 2 times to the same charechter (`helloooooo` -> `hello`)\n",
        "  text = TextCleaner.remove_non_alphanumerics(text)\n",
        "  text = TextCleaner.remove_numbers(text)\n",
        "  text = TextCleaner.remove_wide_spaces(text) # Replaces spaces with more than one space to one space ('     ' -> ' ')\n",
        "  return text.strip()\n",
        "\n",
        "sample_text1 = \"@mnmoslem the last update of clash royal is awful i sent to them on this email clashroyalemail@supercell.com\"\n",
        "sample_text2 = \"you could win 10000$ cash from only clicking on this link www.somelink.com/winnerwinnerchickendinner\"\n",
        "sample_text3 = \"this text  haaaas   a lot of     sssspaces  and reeeepeated  charechters\"\n",
        "cleaned1 = clean_text(sample_text1)\n",
        "cleaned2 = clean_text(sample_text2)\n",
        "cleaned3 = clean_text(sample_text3)\n",
        "print(cleaned1)\n",
        "print(cleaned2)\n",
        "print(cleaned3)"
      ],
      "metadata": {
        "colab": {
          "base_uri": "https://localhost:8080/"
        },
        "id": "_biRUVDlwpji",
        "outputId": "3e014893-8c38-46f7-d26e-c6325e962e74"
      },
      "execution_count": 63,
      "outputs": [
        {
          "output_type": "stream",
          "name": "stdout",
          "text": [
            "the last update of clash royal is awful i sent to them on this email\n",
            "you could win cash from only clicking on this link\n",
            "this text has a lot of spaces and repeated charechters\n"
          ]
        }
      ]
    },
    {
      "cell_type": "code",
      "source": [
        "data.info()"
      ],
      "metadata": {
        "colab": {
          "base_uri": "https://localhost:8080/"
        },
        "id": "WO45Q2bGQ_35",
        "outputId": "9f623975-c6d0-40a6-daec-dffb4b184edd"
      },
      "execution_count": 27,
      "outputs": [
        {
          "output_type": "stream",
          "name": "stdout",
          "text": [
            "<class 'pandas.core.frame.DataFrame'>\n",
            "RangeIndex: 5572 entries, 0 to 5571\n",
            "Data columns (total 4 columns):\n",
            " #   Column   Non-Null Count  Dtype \n",
            "---  ------   --------------  ----- \n",
            " 0   label    5572 non-null   object\n",
            " 1   message  5572 non-null   object\n",
            " 2   length   5572 non-null   int64 \n",
            " 3   punct    5572 non-null   int64 \n",
            "dtypes: int64(2), object(2)\n",
            "memory usage: 174.2+ KB\n"
          ]
        }
      ]
    },
    {
      "cell_type": "markdown",
      "source": [
        "## Check the shape of the data"
      ],
      "metadata": {
        "id": "OzKVPNpIRRoU"
      }
    },
    {
      "cell_type": "code",
      "source": [
        "ham = data.loc[data['label'] == 'ham']\n",
        "spam = data.loc[data['label'] == 'spam']\n",
        "print(\"Shape of Ham:\", ham.shape)\n",
        "print(\"Shape of Spam:\", spam.shape)"
      ],
      "metadata": {
        "colab": {
          "base_uri": "https://localhost:8080/"
        },
        "id": "O9vkFaXMwzH4",
        "outputId": "35ac9ad3-b512-4082-fa0a-8ed1b44496e1"
      },
      "execution_count": 28,
      "outputs": [
        {
          "output_type": "stream",
          "name": "stdout",
          "text": [
            "Shape of Ham: (4825, 4)\n",
            "Shape of Spam: (747, 4)\n"
          ]
        }
      ]
    },
    {
      "cell_type": "code",
      "source": [
        "# we notice that we have a problem which its that the data is not balanced so we balance it..\n",
        "\n",
        "ham = ham.sample(len(spam)) # we take n samples from the data where n is the number of text data in spam\n",
        "print(\"Shape of Ham:\", ham.shape)\n",
        "new_data = pd.concat((ham, spam), axis = 0) # we create new data\n",
        "print(\"Shape of New Data:\", new_data.shape)"
      ],
      "metadata": {
        "colab": {
          "base_uri": "https://localhost:8080/"
        },
        "id": "2voNyZUsRcdR",
        "outputId": "84bea424-db1e-4589-d616-deeeded1a12d"
      },
      "execution_count": 29,
      "outputs": [
        {
          "output_type": "stream",
          "name": "stdout",
          "text": [
            "Shape of Ham: (747, 4)\n",
            "Shape of New Data: (1494, 4)\n"
          ]
        }
      ]
    },
    {
      "cell_type": "code",
      "source": [
        "new_data['message'] = new_data['message'].apply(clean_text)\n",
        "\n",
        "x = new_data['message'].values # gets the twittes\n",
        "y = (new_data['label'].values == 'spam').astype(int) # gets labels and converts them from (ham, spam) to (0, 1)\n",
        "\n",
        "print(\"Shape of X: \", x.shape)\n",
        "print(\"Shape of Y: \", y.shape)"
      ],
      "metadata": {
        "colab": {
          "base_uri": "https://localhost:8080/"
        },
        "id": "JqXpiz2fwsCn",
        "outputId": "852d2f9c-deb7-47c2-d16e-9d98981f142d"
      },
      "execution_count": 30,
      "outputs": [
        {
          "output_type": "stream",
          "name": "stdout",
          "text": [
            "Shape of X:  (1494,)\n",
            "Shape of Y:  (1494,)\n"
          ]
        }
      ]
    },
    {
      "cell_type": "markdown",
      "source": [
        "## Import The Tf-Idf from Sklearn and fit the data to it"
      ],
      "metadata": {
        "id": "dV3g8ogdSc7d"
      }
    },
    {
      "cell_type": "code",
      "source": [
        "from sklearn.feature_extraction.text import TfidfVectorizer\n",
        "\n",
        "tfidf = TfidfVectorizer()\n",
        "new_x = tfidf.fit_transform(x)\n",
        "\n",
        "print(\"Shape of New_X:\", new_x.shape)\n",
        "print(\"Number of vocab:\", len(tfidf.vocabulary_))"
      ],
      "metadata": {
        "colab": {
          "base_uri": "https://localhost:8080/"
        },
        "id": "n4tdOwEmw4-6",
        "outputId": "cf10cb05-e591-44f0-f70c-4b7fbed15c34"
      },
      "execution_count": 32,
      "outputs": [
        {
          "output_type": "stream",
          "name": "stdout",
          "text": [
            "Shape of New_X: (1494, 3933)\n",
            "Number of vocab: 3933\n"
          ]
        }
      ]
    },
    {
      "cell_type": "markdown",
      "source": [
        "## Split the data to train data and test data"
      ],
      "metadata": {
        "id": "pf2U_DN9SyyM"
      }
    },
    {
      "cell_type": "code",
      "source": [
        "from sklearn.model_selection import train_test_split\n",
        "x_train, x_test, y_train, y_test = train_test_split(new_x, y, test_size = 0.2, shuffle = True, random_state = 256)"
      ],
      "metadata": {
        "id": "5bGXydJaxBUG"
      },
      "execution_count": 33,
      "outputs": []
    },
    {
      "cell_type": "markdown",
      "source": [
        "## Import The Support Vector Classifier from Sklearn and train the module"
      ],
      "metadata": {
        "id": "qoBV0KMsSi2q"
      }
    },
    {
      "cell_type": "code",
      "source": [
        "from sklearn.svm import SVC\n",
        "\n",
        "svc = SVC()\n",
        "svc.fit(x_train, y_train)\n",
        "preds = svc.predict(x_test)"
      ],
      "metadata": {
        "id": "tGVmRi2uxPG2"
      },
      "execution_count": 34,
      "outputs": []
    },
    {
      "cell_type": "markdown",
      "source": [
        "## Check The result"
      ],
      "metadata": {
        "id": "-jVLlhi_TBHA"
      }
    },
    {
      "cell_type": "code",
      "source": [
        "from sklearn.metrics import classification_report\n",
        "\n",
        "cr = classification_report(y_test, preds)\n",
        "print(cr)"
      ],
      "metadata": {
        "colab": {
          "base_uri": "https://localhost:8080/"
        },
        "id": "Gj48qz0BxUoO",
        "outputId": "7bafb42d-97f0-4519-ed55-e586b3ee3211"
      },
      "execution_count": 35,
      "outputs": [
        {
          "output_type": "stream",
          "name": "stdout",
          "text": [
            "              precision    recall  f1-score   support\n",
            "\n",
            "           0       0.88      0.99      0.93       140\n",
            "           1       0.99      0.89      0.93       159\n",
            "\n",
            "    accuracy                           0.93       299\n",
            "   macro avg       0.94      0.94      0.93       299\n",
            "weighted avg       0.94      0.93      0.93       299\n",
            "\n"
          ]
        }
      ]
    },
    {
      "cell_type": "markdown",
      "source": [
        "## Create functions to detect spam"
      ],
      "metadata": {
        "id": "ReOLpdQMTGWs"
      }
    },
    {
      "cell_type": "code",
      "source": [
        "def spam_detect(text : str):\n",
        "  text = clean_text(text)\n",
        "  raw = tfidf.transform([text])\n",
        "  return svc.predict(raw)\n",
        "\n",
        "def print_spam(text : str):\n",
        "  result = \"Spam\" if spam_detect(text) else \"Ham\"\n",
        "\n",
        "  def truncate(string, width):\n",
        "    if len(string) > width:\n",
        "        string = string[:width-3] + '...'\n",
        "    return string\n",
        "\n",
        "  print(f\"{truncate(text, 30)} =======> is {result}\")"
      ],
      "metadata": {
        "id": "8WMCi4_Ox4gZ"
      },
      "execution_count": 36,
      "outputs": []
    },
    {
      "cell_type": "markdown",
      "source": [
        "## Final Test"
      ],
      "metadata": {
        "id": "SvBItv8-Tgb2"
      }
    },
    {
      "cell_type": "code",
      "source": [
        "text1 = \"clash royal became so bad\"\n",
        "text2 = \"if you want to win 100000$ just click the link bellow www.winnerwinnerchickendinner.com\"\n",
        "\n",
        "print_spam(text1)\n",
        "print_spam(text2)"
      ],
      "metadata": {
        "colab": {
          "base_uri": "https://localhost:8080/"
        },
        "id": "V74NAQi7x7Hu",
        "outputId": "5d263f09-0426-4b9c-9bd7-7eda82aa9588"
      },
      "execution_count": 37,
      "outputs": [
        {
          "output_type": "stream",
          "name": "stdout",
          "text": [
            "clash royal became so bad =======> is Ham\n",
            "if you want to win 100000$ ... =======> is Spam\n"
          ]
        }
      ]
    },
    {
      "cell_type": "code",
      "source": [
        "# Let's Do it again but this time on another dataset"
      ],
      "metadata": {
        "id": "wc9_eba0VGqM"
      },
      "execution_count": 14,
      "outputs": []
    },
    {
      "cell_type": "markdown",
      "source": [
        "## Import the Dataset"
      ],
      "metadata": {
        "id": "eFiavBy_VNmB"
      }
    },
    {
      "cell_type": "code",
      "source": [
        "'''\n",
        "In this example we are going to use the Rotten Tomatoes Movie Reviews Dataset that\n",
        "includes collection of movie reviews labeled by negative and positive.\n",
        "'''\n",
        "\n",
        "import pandas as pd\n",
        "df = pd.read_csv(\"https://raw.githubusercontent.com/MNourMoslem/Simple-Text-Classifier/master/dataset/rotten_tomatoes.csv\", index_col = False)\n",
        "df.head()"
      ],
      "metadata": {
        "colab": {
          "base_uri": "https://localhost:8080/",
          "height": 206
        },
        "id": "2k_BtOuGx8GH",
        "outputId": "de87708d-f35c-4224-e5c7-322ab3002602"
      },
      "execution_count": 49,
      "outputs": [
        {
          "output_type": "execute_result",
          "data": {
            "text/plain": [
              "                                                text  label\n",
              "0  the rock is destined to be the 21st century's ...      1\n",
              "1  the gorgeously elaborate continuation of \" the...      1\n",
              "2                     effective but too-tepid biopic      1\n",
              "3  if you sometimes like to go to the movies to h...      1\n",
              "4  emerges as something rare , an issue movie tha...      1"
            ],
            "text/html": [
              "\n",
              "  <div id=\"df-f7bf25b4-7238-4fd5-904e-5c3d56a51c0f\" class=\"colab-df-container\">\n",
              "    <div>\n",
              "<style scoped>\n",
              "    .dataframe tbody tr th:only-of-type {\n",
              "        vertical-align: middle;\n",
              "    }\n",
              "\n",
              "    .dataframe tbody tr th {\n",
              "        vertical-align: top;\n",
              "    }\n",
              "\n",
              "    .dataframe thead th {\n",
              "        text-align: right;\n",
              "    }\n",
              "</style>\n",
              "<table border=\"1\" class=\"dataframe\">\n",
              "  <thead>\n",
              "    <tr style=\"text-align: right;\">\n",
              "      <th></th>\n",
              "      <th>text</th>\n",
              "      <th>label</th>\n",
              "    </tr>\n",
              "  </thead>\n",
              "  <tbody>\n",
              "    <tr>\n",
              "      <th>0</th>\n",
              "      <td>the rock is destined to be the 21st century's ...</td>\n",
              "      <td>1</td>\n",
              "    </tr>\n",
              "    <tr>\n",
              "      <th>1</th>\n",
              "      <td>the gorgeously elaborate continuation of \" the...</td>\n",
              "      <td>1</td>\n",
              "    </tr>\n",
              "    <tr>\n",
              "      <th>2</th>\n",
              "      <td>effective but too-tepid biopic</td>\n",
              "      <td>1</td>\n",
              "    </tr>\n",
              "    <tr>\n",
              "      <th>3</th>\n",
              "      <td>if you sometimes like to go to the movies to h...</td>\n",
              "      <td>1</td>\n",
              "    </tr>\n",
              "    <tr>\n",
              "      <th>4</th>\n",
              "      <td>emerges as something rare , an issue movie tha...</td>\n",
              "      <td>1</td>\n",
              "    </tr>\n",
              "  </tbody>\n",
              "</table>\n",
              "</div>\n",
              "    <div class=\"colab-df-buttons\">\n",
              "\n",
              "  <div class=\"colab-df-container\">\n",
              "    <button class=\"colab-df-convert\" onclick=\"convertToInteractive('df-f7bf25b4-7238-4fd5-904e-5c3d56a51c0f')\"\n",
              "            title=\"Convert this dataframe to an interactive table.\"\n",
              "            style=\"display:none;\">\n",
              "\n",
              "  <svg xmlns=\"http://www.w3.org/2000/svg\" height=\"24px\" viewBox=\"0 -960 960 960\">\n",
              "    <path d=\"M120-120v-720h720v720H120Zm60-500h600v-160H180v160Zm220 220h160v-160H400v160Zm0 220h160v-160H400v160ZM180-400h160v-160H180v160Zm440 0h160v-160H620v160ZM180-180h160v-160H180v160Zm440 0h160v-160H620v160Z\"/>\n",
              "  </svg>\n",
              "    </button>\n",
              "\n",
              "  <style>\n",
              "    .colab-df-container {\n",
              "      display:flex;\n",
              "      gap: 12px;\n",
              "    }\n",
              "\n",
              "    .colab-df-convert {\n",
              "      background-color: #E8F0FE;\n",
              "      border: none;\n",
              "      border-radius: 50%;\n",
              "      cursor: pointer;\n",
              "      display: none;\n",
              "      fill: #1967D2;\n",
              "      height: 32px;\n",
              "      padding: 0 0 0 0;\n",
              "      width: 32px;\n",
              "    }\n",
              "\n",
              "    .colab-df-convert:hover {\n",
              "      background-color: #E2EBFA;\n",
              "      box-shadow: 0px 1px 2px rgba(60, 64, 67, 0.3), 0px 1px 3px 1px rgba(60, 64, 67, 0.15);\n",
              "      fill: #174EA6;\n",
              "    }\n",
              "\n",
              "    .colab-df-buttons div {\n",
              "      margin-bottom: 4px;\n",
              "    }\n",
              "\n",
              "    [theme=dark] .colab-df-convert {\n",
              "      background-color: #3B4455;\n",
              "      fill: #D2E3FC;\n",
              "    }\n",
              "\n",
              "    [theme=dark] .colab-df-convert:hover {\n",
              "      background-color: #434B5C;\n",
              "      box-shadow: 0px 1px 3px 1px rgba(0, 0, 0, 0.15);\n",
              "      filter: drop-shadow(0px 1px 2px rgba(0, 0, 0, 0.3));\n",
              "      fill: #FFFFFF;\n",
              "    }\n",
              "  </style>\n",
              "\n",
              "    <script>\n",
              "      const buttonEl =\n",
              "        document.querySelector('#df-f7bf25b4-7238-4fd5-904e-5c3d56a51c0f button.colab-df-convert');\n",
              "      buttonEl.style.display =\n",
              "        google.colab.kernel.accessAllowed ? 'block' : 'none';\n",
              "\n",
              "      async function convertToInteractive(key) {\n",
              "        const element = document.querySelector('#df-f7bf25b4-7238-4fd5-904e-5c3d56a51c0f');\n",
              "        const dataTable =\n",
              "          await google.colab.kernel.invokeFunction('convertToInteractive',\n",
              "                                                    [key], {});\n",
              "        if (!dataTable) return;\n",
              "\n",
              "        const docLinkHtml = 'Like what you see? Visit the ' +\n",
              "          '<a target=\"_blank\" href=https://colab.research.google.com/notebooks/data_table.ipynb>data table notebook</a>'\n",
              "          + ' to learn more about interactive tables.';\n",
              "        element.innerHTML = '';\n",
              "        dataTable['output_type'] = 'display_data';\n",
              "        await google.colab.output.renderOutput(dataTable, element);\n",
              "        const docLink = document.createElement('div');\n",
              "        docLink.innerHTML = docLinkHtml;\n",
              "        element.appendChild(docLink);\n",
              "      }\n",
              "    </script>\n",
              "  </div>\n",
              "\n",
              "\n",
              "<div id=\"df-df776408-9551-4b8c-bb38-e91792c4ac66\">\n",
              "  <button class=\"colab-df-quickchart\" onclick=\"quickchart('df-df776408-9551-4b8c-bb38-e91792c4ac66')\"\n",
              "            title=\"Suggest charts\"\n",
              "            style=\"display:none;\">\n",
              "\n",
              "<svg xmlns=\"http://www.w3.org/2000/svg\" height=\"24px\"viewBox=\"0 0 24 24\"\n",
              "     width=\"24px\">\n",
              "    <g>\n",
              "        <path d=\"M19 3H5c-1.1 0-2 .9-2 2v14c0 1.1.9 2 2 2h14c1.1 0 2-.9 2-2V5c0-1.1-.9-2-2-2zM9 17H7v-7h2v7zm4 0h-2V7h2v10zm4 0h-2v-4h2v4z\"/>\n",
              "    </g>\n",
              "</svg>\n",
              "  </button>\n",
              "\n",
              "<style>\n",
              "  .colab-df-quickchart {\n",
              "      --bg-color: #E8F0FE;\n",
              "      --fill-color: #1967D2;\n",
              "      --hover-bg-color: #E2EBFA;\n",
              "      --hover-fill-color: #174EA6;\n",
              "      --disabled-fill-color: #AAA;\n",
              "      --disabled-bg-color: #DDD;\n",
              "  }\n",
              "\n",
              "  [theme=dark] .colab-df-quickchart {\n",
              "      --bg-color: #3B4455;\n",
              "      --fill-color: #D2E3FC;\n",
              "      --hover-bg-color: #434B5C;\n",
              "      --hover-fill-color: #FFFFFF;\n",
              "      --disabled-bg-color: #3B4455;\n",
              "      --disabled-fill-color: #666;\n",
              "  }\n",
              "\n",
              "  .colab-df-quickchart {\n",
              "    background-color: var(--bg-color);\n",
              "    border: none;\n",
              "    border-radius: 50%;\n",
              "    cursor: pointer;\n",
              "    display: none;\n",
              "    fill: var(--fill-color);\n",
              "    height: 32px;\n",
              "    padding: 0;\n",
              "    width: 32px;\n",
              "  }\n",
              "\n",
              "  .colab-df-quickchart:hover {\n",
              "    background-color: var(--hover-bg-color);\n",
              "    box-shadow: 0 1px 2px rgba(60, 64, 67, 0.3), 0 1px 3px 1px rgba(60, 64, 67, 0.15);\n",
              "    fill: var(--button-hover-fill-color);\n",
              "  }\n",
              "\n",
              "  .colab-df-quickchart-complete:disabled,\n",
              "  .colab-df-quickchart-complete:disabled:hover {\n",
              "    background-color: var(--disabled-bg-color);\n",
              "    fill: var(--disabled-fill-color);\n",
              "    box-shadow: none;\n",
              "  }\n",
              "\n",
              "  .colab-df-spinner {\n",
              "    border: 2px solid var(--fill-color);\n",
              "    border-color: transparent;\n",
              "    border-bottom-color: var(--fill-color);\n",
              "    animation:\n",
              "      spin 1s steps(1) infinite;\n",
              "  }\n",
              "\n",
              "  @keyframes spin {\n",
              "    0% {\n",
              "      border-color: transparent;\n",
              "      border-bottom-color: var(--fill-color);\n",
              "      border-left-color: var(--fill-color);\n",
              "    }\n",
              "    20% {\n",
              "      border-color: transparent;\n",
              "      border-left-color: var(--fill-color);\n",
              "      border-top-color: var(--fill-color);\n",
              "    }\n",
              "    30% {\n",
              "      border-color: transparent;\n",
              "      border-left-color: var(--fill-color);\n",
              "      border-top-color: var(--fill-color);\n",
              "      border-right-color: var(--fill-color);\n",
              "    }\n",
              "    40% {\n",
              "      border-color: transparent;\n",
              "      border-right-color: var(--fill-color);\n",
              "      border-top-color: var(--fill-color);\n",
              "    }\n",
              "    60% {\n",
              "      border-color: transparent;\n",
              "      border-right-color: var(--fill-color);\n",
              "    }\n",
              "    80% {\n",
              "      border-color: transparent;\n",
              "      border-right-color: var(--fill-color);\n",
              "      border-bottom-color: var(--fill-color);\n",
              "    }\n",
              "    90% {\n",
              "      border-color: transparent;\n",
              "      border-bottom-color: var(--fill-color);\n",
              "    }\n",
              "  }\n",
              "</style>\n",
              "\n",
              "  <script>\n",
              "    async function quickchart(key) {\n",
              "      const quickchartButtonEl =\n",
              "        document.querySelector('#' + key + ' button');\n",
              "      quickchartButtonEl.disabled = true;  // To prevent multiple clicks.\n",
              "      quickchartButtonEl.classList.add('colab-df-spinner');\n",
              "      try {\n",
              "        const charts = await google.colab.kernel.invokeFunction(\n",
              "            'suggestCharts', [key], {});\n",
              "      } catch (error) {\n",
              "        console.error('Error during call to suggestCharts:', error);\n",
              "      }\n",
              "      quickchartButtonEl.classList.remove('colab-df-spinner');\n",
              "      quickchartButtonEl.classList.add('colab-df-quickchart-complete');\n",
              "    }\n",
              "    (() => {\n",
              "      let quickchartButtonEl =\n",
              "        document.querySelector('#df-df776408-9551-4b8c-bb38-e91792c4ac66 button');\n",
              "      quickchartButtonEl.style.display =\n",
              "        google.colab.kernel.accessAllowed ? 'block' : 'none';\n",
              "    })();\n",
              "  </script>\n",
              "</div>\n",
              "\n",
              "    </div>\n",
              "  </div>\n"
            ],
            "application/vnd.google.colaboratory.intrinsic+json": {
              "type": "dataframe",
              "variable_name": "df",
              "summary": "{\n  \"name\": \"df\",\n  \"rows\": 8530,\n  \"fields\": [\n    {\n      \"column\": \"text\",\n      \"properties\": {\n        \"dtype\": \"string\",\n        \"num_unique_values\": 8530,\n        \"samples\": [\n          \"it would take a complete moron to foul up a screen adaptation of oscar wilde's classic satire .\",\n          \"so we got ten little indians meets friday the 13th by way of clean and sober , filmed on the set of carpenter's the thing and loaded with actors you're most likely to find on the next inevitable incarnation of the love boat .\",\n          \"unfortunately , heartbreak hospital wants to convey the same kind of haughtiness in its own sketchy material but this territory has already been explored previously with better aplomb and sardonic wit .\"\n        ],\n        \"semantic_type\": \"\",\n        \"description\": \"\"\n      }\n    },\n    {\n      \"column\": \"label\",\n      \"properties\": {\n        \"dtype\": \"number\",\n        \"std\": 0,\n        \"min\": 0,\n        \"max\": 1,\n        \"num_unique_values\": 2,\n        \"samples\": [\n          0,\n          1\n        ],\n        \"semantic_type\": \"\",\n        \"description\": \"\"\n      }\n    }\n  ]\n}"
            }
          },
          "metadata": {},
          "execution_count": 49
        }
      ]
    },
    {
      "cell_type": "markdown",
      "source": [
        "## Check the balancing of the dataset"
      ],
      "metadata": {
        "id": "RndafJzwWNry"
      }
    },
    {
      "cell_type": "code",
      "source": [
        "print(df['label'].value_counts())"
      ],
      "metadata": {
        "colab": {
          "base_uri": "https://localhost:8080/"
        },
        "id": "IKJr8jIqWokX",
        "outputId": "407b5ad5-b0df-44f7-f143-9da499f1a74f"
      },
      "execution_count": 50,
      "outputs": [
        {
          "output_type": "stream",
          "name": "stdout",
          "text": [
            "label\n",
            "1    4265\n",
            "0    4265\n",
            "Name: count, dtype: int64\n"
          ]
        }
      ]
    },
    {
      "cell_type": "markdown",
      "source": [
        "## Import Tf-idf from Sklearn and fit our data to it"
      ],
      "metadata": {
        "id": "VYtrGSUjW3Qb"
      }
    },
    {
      "cell_type": "code",
      "source": [
        "x = df.iloc[:, 0].values\n",
        "y = df.iloc[:, 1].values\n",
        "print(\"Shape of X:\", x.shape)\n",
        "print(\"Shape of Y:\", y.shape)\n",
        "print('')\n",
        "\n",
        "from sklearn.feature_extraction.text import TfidfVectorizer\n",
        "\n",
        "tfidf2 = TfidfVectorizer()\n",
        "new_x = tfidf2.fit_transform(x)\n",
        "\n",
        "print(\"Shape of New_X:\", new_x.shape)\n",
        "print(\"Number of vocab:\", len(tfidf2.vocabulary_))"
      ],
      "metadata": {
        "colab": {
          "base_uri": "https://localhost:8080/"
        },
        "id": "x8t14tqtDWgA",
        "outputId": "58d08752-a859-4ff6-fa69-4f1f55c096b0"
      },
      "execution_count": 51,
      "outputs": [
        {
          "output_type": "stream",
          "name": "stdout",
          "text": [
            "Shape of X: (8530,)\n",
            "Shape of Y: (8530,)\n",
            "\n",
            "Shape of New_X: (8530, 16474)\n",
            "Number of vocab: 16474\n"
          ]
        }
      ]
    },
    {
      "cell_type": "markdown",
      "source": [
        "## Split dataset to train and test data"
      ],
      "metadata": {
        "id": "1IwqY3iJDXwu"
      }
    },
    {
      "cell_type": "code",
      "source": [
        "from sklearn.model_selection import train_test_split\n",
        "x_train, x_test, y_train, y_test = train_test_split(new_x, y, test_size = 0.2, random_state = 256)"
      ],
      "metadata": {
        "id": "sp4VTER5DYpv"
      },
      "execution_count": 52,
      "outputs": []
    },
    {
      "cell_type": "markdown",
      "source": [
        "##Import Support Vector Classifier and train it"
      ],
      "metadata": {
        "id": "HH5YnoIkXVSH"
      }
    },
    {
      "cell_type": "code",
      "source": [
        "from sklearn.svm import SVC\n",
        "\n",
        "svc2 = SVC()\n",
        "svc2.fit(x_train, y_train) # might take time\n",
        "preds = svc2.predict(x_test)"
      ],
      "metadata": {
        "id": "8Vj9xN1HDakx"
      },
      "execution_count": 53,
      "outputs": []
    },
    {
      "cell_type": "markdown",
      "source": [
        "## Take a look to the result"
      ],
      "metadata": {
        "id": "krLx2Y6gZAYN"
      }
    },
    {
      "cell_type": "code",
      "source": [
        "print(\"First 10 predctions:\", preds[:10])\n",
        "print(\"First 10 test labels:\", y_test[:10])"
      ],
      "metadata": {
        "colab": {
          "base_uri": "https://localhost:8080/"
        },
        "id": "VoetPmDxDbsg",
        "outputId": "20bf7b5f-0c3f-4445-a9db-f1b964379ba8"
      },
      "execution_count": 54,
      "outputs": [
        {
          "output_type": "stream",
          "name": "stdout",
          "text": [
            "First 10 predctions: [1 0 0 0 1 0 0 0 0 1]\n",
            "First 10 test labels: [1 0 1 0 1 0 1 1 0 1]\n"
          ]
        }
      ]
    },
    {
      "cell_type": "markdown",
      "source": [
        "## Get the classification report"
      ],
      "metadata": {
        "id": "ZfxHfk0HZEdF"
      }
    },
    {
      "cell_type": "code",
      "source": [
        "from sklearn.metrics import classification_report\n",
        "\n",
        "cr = classification_report(y_test, preds)\n",
        "print(cr)"
      ],
      "metadata": {
        "colab": {
          "base_uri": "https://localhost:8080/"
        },
        "id": "6YzkzOOwDcpX",
        "outputId": "17b72fc1-73f8-4e41-ffb2-329dc6469b04"
      },
      "execution_count": 55,
      "outputs": [
        {
          "output_type": "stream",
          "name": "stdout",
          "text": [
            "              precision    recall  f1-score   support\n",
            "\n",
            "           0       0.74      0.74      0.74       842\n",
            "           1       0.74      0.75      0.75       864\n",
            "\n",
            "    accuracy                           0.74      1706\n",
            "   macro avg       0.74      0.74      0.74      1706\n",
            "weighted avg       0.74      0.74      0.74      1706\n",
            "\n"
          ]
        }
      ]
    },
    {
      "cell_type": "markdown",
      "source": [
        "## Final Test"
      ],
      "metadata": {
        "id": "ukF8neRFiRw5"
      }
    },
    {
      "cell_type": "code",
      "source": [
        "def rate_review(text : str):\n",
        "  text = clean_text(text)\n",
        "  raw = tfidf2.transform([text])\n",
        "  return svc2.predict(raw)\n",
        "\n",
        "def print_rate(text : str):\n",
        "  result = \"Positive\" if rate_review(text) else \"Negative\"\n",
        "\n",
        "  def truncate(string, width):\n",
        "    if len(string) > width:\n",
        "        string = string[:width-3] + '...'\n",
        "    return string\n",
        "\n",
        "  print(f\"{truncate(text, 30)} =======> is {result}\")"
      ],
      "metadata": {
        "id": "Ypsk05HyiVh8"
      },
      "execution_count": 56,
      "outputs": []
    },
    {
      "cell_type": "code",
      "source": [
        "review1 = \"The movie was so good i liked it\"\n",
        "review2 = \"worst movie ever\"\n",
        "review3 = \"didn't expect this, i was waiting for something better\"\n",
        "review4 = \"good movie i liked it\"\n",
        "\n",
        "print_rate(review1)\n",
        "print_rate(review2)\n",
        "print_rate(review3)\n",
        "print_rate(review4)"
      ],
      "metadata": {
        "colab": {
          "base_uri": "https://localhost:8080/"
        },
        "id": "sjE8sxDFjE9V",
        "outputId": "d4c6832f-c68b-4c57-cb95-0abba468a677"
      },
      "execution_count": 62,
      "outputs": [
        {
          "output_type": "stream",
          "name": "stdout",
          "text": [
            "The movie was so good i lik... =======> is Negative\n",
            "worst movie ever =======> is Negative\n",
            "didn't expect this, i was w... =======> is Negative\n",
            "good movie i liked it =======> is Positive\n"
          ]
        }
      ]
    },
    {
      "cell_type": "code",
      "source": [
        "# An Additional Information.."
      ],
      "metadata": {
        "id": "_uyGVdGLUvmR"
      },
      "execution_count": 42,
      "outputs": []
    },
    {
      "cell_type": "markdown",
      "source": [
        "## Why It's Called Spam and Ham?\n",
        "\n",
        "* **Spam**: The term \"spam\" originally comes from a 1970s sketch by the British comedy group Monty Python, where a restaurant serves everything with spam (a brand of canned meat), leading to the word being repeated excessively. This sketch became a metaphor for the flood of unwanted and repetitive messages, particularly in email and online communication. Over time, \"spam\" came to refer to any form of unwanted, unsolicited bulk messages.\n",
        "\n",
        "* **Ham**: In contrast, \"ham\" is used as a playful back-formation from \"spam.\" It was chosen because it's a similar-sounding word but represents something desirable in this context—legitimate, wanted messages. It doesn’t have a deeper etymology related to its meaning in email classification, but it serves as a simple, memorable opposite to spam."
      ],
      "metadata": {
        "id": "d6lSmBr7Dd5S"
      }
    }
  ]
}
